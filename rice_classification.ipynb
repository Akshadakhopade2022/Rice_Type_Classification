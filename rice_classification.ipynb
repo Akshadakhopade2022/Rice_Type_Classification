{
 "cells": [
  {
   "cell_type": "markdown",
   "id": "086159f6",
   "metadata": {},
   "source": [
    "##### Data : https://www.kaggle.com/datasets/mssmartypants/rice-type-classification"
   ]
  },
  {
   "cell_type": "code",
   "execution_count": 29,
   "id": "68f7e24e",
   "metadata": {},
   "outputs": [],
   "source": [
    "import pandas as pd\n",
    "import seaborn as sns\n",
    "import matplotlib.pyplot as plt\n",
    "from sklearn.preprocessing import StandardScaler\n",
    "from statsmodels.stats.outliers_influence import variance_inflation_factor\n",
    "from sklearn.model_selection import train_test_split\n",
    "from sklearn.linear_model import LogisticRegression\n",
    "from sklearn.metrics import accuracy_score, plot_confusion_matrix\n",
    "import pickle as pkl"
   ]
  },
  {
   "cell_type": "code",
   "execution_count": 2,
   "id": "48e5e55f",
   "metadata": {},
   "outputs": [],
   "source": [
    "df = pd.read_csv('riceClassification.csv')"
   ]
  },
  {
   "cell_type": "code",
   "execution_count": 3,
   "id": "d3e5bd62",
   "metadata": {},
   "outputs": [
    {
     "data": {
      "text/html": [
       "<div>\n",
       "<style scoped>\n",
       "    .dataframe tbody tr th:only-of-type {\n",
       "        vertical-align: middle;\n",
       "    }\n",
       "\n",
       "    .dataframe tbody tr th {\n",
       "        vertical-align: top;\n",
       "    }\n",
       "\n",
       "    .dataframe thead th {\n",
       "        text-align: right;\n",
       "    }\n",
       "</style>\n",
       "<table border=\"1\" class=\"dataframe\">\n",
       "  <thead>\n",
       "    <tr style=\"text-align: right;\">\n",
       "      <th></th>\n",
       "      <th>id</th>\n",
       "      <th>Area</th>\n",
       "      <th>MajorAxisLength</th>\n",
       "      <th>MinorAxisLength</th>\n",
       "      <th>Eccentricity</th>\n",
       "      <th>ConvexArea</th>\n",
       "      <th>EquivDiameter</th>\n",
       "      <th>Extent</th>\n",
       "      <th>Perimeter</th>\n",
       "      <th>Roundness</th>\n",
       "      <th>AspectRation</th>\n",
       "      <th>Class</th>\n",
       "    </tr>\n",
       "  </thead>\n",
       "  <tbody>\n",
       "    <tr>\n",
       "      <th>0</th>\n",
       "      <td>1</td>\n",
       "      <td>4537</td>\n",
       "      <td>92.229316</td>\n",
       "      <td>64.012769</td>\n",
       "      <td>0.719916</td>\n",
       "      <td>4677</td>\n",
       "      <td>76.004525</td>\n",
       "      <td>0.657536</td>\n",
       "      <td>273.085</td>\n",
       "      <td>0.764510</td>\n",
       "      <td>1.440796</td>\n",
       "      <td>1</td>\n",
       "    </tr>\n",
       "    <tr>\n",
       "      <th>1</th>\n",
       "      <td>2</td>\n",
       "      <td>2872</td>\n",
       "      <td>74.691881</td>\n",
       "      <td>51.400454</td>\n",
       "      <td>0.725553</td>\n",
       "      <td>3015</td>\n",
       "      <td>60.471018</td>\n",
       "      <td>0.713009</td>\n",
       "      <td>208.317</td>\n",
       "      <td>0.831658</td>\n",
       "      <td>1.453137</td>\n",
       "      <td>1</td>\n",
       "    </tr>\n",
       "    <tr>\n",
       "      <th>2</th>\n",
       "      <td>3</td>\n",
       "      <td>3048</td>\n",
       "      <td>76.293164</td>\n",
       "      <td>52.043491</td>\n",
       "      <td>0.731211</td>\n",
       "      <td>3132</td>\n",
       "      <td>62.296341</td>\n",
       "      <td>0.759153</td>\n",
       "      <td>210.012</td>\n",
       "      <td>0.868434</td>\n",
       "      <td>1.465950</td>\n",
       "      <td>1</td>\n",
       "    </tr>\n",
       "    <tr>\n",
       "      <th>3</th>\n",
       "      <td>4</td>\n",
       "      <td>3073</td>\n",
       "      <td>77.033628</td>\n",
       "      <td>51.928487</td>\n",
       "      <td>0.738639</td>\n",
       "      <td>3157</td>\n",
       "      <td>62.551300</td>\n",
       "      <td>0.783529</td>\n",
       "      <td>210.657</td>\n",
       "      <td>0.870203</td>\n",
       "      <td>1.483456</td>\n",
       "      <td>1</td>\n",
       "    </tr>\n",
       "    <tr>\n",
       "      <th>4</th>\n",
       "      <td>5</td>\n",
       "      <td>3693</td>\n",
       "      <td>85.124785</td>\n",
       "      <td>56.374021</td>\n",
       "      <td>0.749282</td>\n",
       "      <td>3802</td>\n",
       "      <td>68.571668</td>\n",
       "      <td>0.769375</td>\n",
       "      <td>230.332</td>\n",
       "      <td>0.874743</td>\n",
       "      <td>1.510000</td>\n",
       "      <td>1</td>\n",
       "    </tr>\n",
       "  </tbody>\n",
       "</table>\n",
       "</div>"
      ],
      "text/plain": [
       "   id  Area  MajorAxisLength  MinorAxisLength  Eccentricity  ConvexArea  \\\n",
       "0   1  4537        92.229316        64.012769      0.719916        4677   \n",
       "1   2  2872        74.691881        51.400454      0.725553        3015   \n",
       "2   3  3048        76.293164        52.043491      0.731211        3132   \n",
       "3   4  3073        77.033628        51.928487      0.738639        3157   \n",
       "4   5  3693        85.124785        56.374021      0.749282        3802   \n",
       "\n",
       "   EquivDiameter    Extent  Perimeter  Roundness  AspectRation  Class  \n",
       "0      76.004525  0.657536    273.085   0.764510      1.440796      1  \n",
       "1      60.471018  0.713009    208.317   0.831658      1.453137      1  \n",
       "2      62.296341  0.759153    210.012   0.868434      1.465950      1  \n",
       "3      62.551300  0.783529    210.657   0.870203      1.483456      1  \n",
       "4      68.571668  0.769375    230.332   0.874743      1.510000      1  "
      ]
     },
     "execution_count": 3,
     "metadata": {},
     "output_type": "execute_result"
    }
   ],
   "source": [
    "df.head()"
   ]
  },
  {
   "cell_type": "code",
   "execution_count": 4,
   "id": "9ed3c5d6",
   "metadata": {},
   "outputs": [
    {
     "name": "stdout",
     "output_type": "stream",
     "text": [
      "<class 'pandas.core.frame.DataFrame'>\n",
      "RangeIndex: 18185 entries, 0 to 18184\n",
      "Data columns (total 12 columns):\n",
      " #   Column           Non-Null Count  Dtype  \n",
      "---  ------           --------------  -----  \n",
      " 0   id               18185 non-null  int64  \n",
      " 1   Area             18185 non-null  int64  \n",
      " 2   MajorAxisLength  18185 non-null  float64\n",
      " 3   MinorAxisLength  18185 non-null  float64\n",
      " 4   Eccentricity     18185 non-null  float64\n",
      " 5   ConvexArea       18185 non-null  int64  \n",
      " 6   EquivDiameter    18185 non-null  float64\n",
      " 7   Extent           18185 non-null  float64\n",
      " 8   Perimeter        18185 non-null  float64\n",
      " 9   Roundness        18185 non-null  float64\n",
      " 10  AspectRation     18185 non-null  float64\n",
      " 11  Class            18185 non-null  int64  \n",
      "dtypes: float64(8), int64(4)\n",
      "memory usage: 1.7 MB\n"
     ]
    }
   ],
   "source": [
    "df.info()"
   ]
  },
  {
   "cell_type": "code",
   "execution_count": 5,
   "id": "9ba2fc1a",
   "metadata": {},
   "outputs": [
    {
     "data": {
      "text/html": [
       "<div>\n",
       "<style scoped>\n",
       "    .dataframe tbody tr th:only-of-type {\n",
       "        vertical-align: middle;\n",
       "    }\n",
       "\n",
       "    .dataframe tbody tr th {\n",
       "        vertical-align: top;\n",
       "    }\n",
       "\n",
       "    .dataframe thead th {\n",
       "        text-align: right;\n",
       "    }\n",
       "</style>\n",
       "<table border=\"1\" class=\"dataframe\">\n",
       "  <thead>\n",
       "    <tr style=\"text-align: right;\">\n",
       "      <th></th>\n",
       "      <th>id</th>\n",
       "      <th>Area</th>\n",
       "      <th>MajorAxisLength</th>\n",
       "      <th>MinorAxisLength</th>\n",
       "      <th>Eccentricity</th>\n",
       "      <th>ConvexArea</th>\n",
       "      <th>EquivDiameter</th>\n",
       "      <th>Extent</th>\n",
       "      <th>Perimeter</th>\n",
       "      <th>Roundness</th>\n",
       "      <th>AspectRation</th>\n",
       "      <th>Class</th>\n",
       "    </tr>\n",
       "  </thead>\n",
       "  <tbody>\n",
       "    <tr>\n",
       "      <th>count</th>\n",
       "      <td>18185.000000</td>\n",
       "      <td>18185.000000</td>\n",
       "      <td>18185.000000</td>\n",
       "      <td>18185.000000</td>\n",
       "      <td>18185.000000</td>\n",
       "      <td>18185.000000</td>\n",
       "      <td>18185.000000</td>\n",
       "      <td>18185.000000</td>\n",
       "      <td>18185.000000</td>\n",
       "      <td>18185.000000</td>\n",
       "      <td>18185.000000</td>\n",
       "      <td>18185.000000</td>\n",
       "    </tr>\n",
       "    <tr>\n",
       "      <th>mean</th>\n",
       "      <td>9093.000000</td>\n",
       "      <td>7036.492989</td>\n",
       "      <td>151.680754</td>\n",
       "      <td>59.807851</td>\n",
       "      <td>0.915406</td>\n",
       "      <td>7225.817872</td>\n",
       "      <td>94.132952</td>\n",
       "      <td>0.616653</td>\n",
       "      <td>351.606949</td>\n",
       "      <td>0.707998</td>\n",
       "      <td>2.599081</td>\n",
       "      <td>0.549079</td>\n",
       "    </tr>\n",
       "    <tr>\n",
       "      <th>std</th>\n",
       "      <td>5249.701658</td>\n",
       "      <td>1467.197150</td>\n",
       "      <td>12.376402</td>\n",
       "      <td>10.061653</td>\n",
       "      <td>0.030575</td>\n",
       "      <td>1502.006571</td>\n",
       "      <td>9.906250</td>\n",
       "      <td>0.104389</td>\n",
       "      <td>29.500620</td>\n",
       "      <td>0.067310</td>\n",
       "      <td>0.434836</td>\n",
       "      <td>0.497599</td>\n",
       "    </tr>\n",
       "    <tr>\n",
       "      <th>min</th>\n",
       "      <td>1.000000</td>\n",
       "      <td>2522.000000</td>\n",
       "      <td>74.133114</td>\n",
       "      <td>34.409894</td>\n",
       "      <td>0.676647</td>\n",
       "      <td>2579.000000</td>\n",
       "      <td>56.666658</td>\n",
       "      <td>0.383239</td>\n",
       "      <td>197.015000</td>\n",
       "      <td>0.174590</td>\n",
       "      <td>1.358128</td>\n",
       "      <td>0.000000</td>\n",
       "    </tr>\n",
       "    <tr>\n",
       "      <th>25%</th>\n",
       "      <td>4547.000000</td>\n",
       "      <td>5962.000000</td>\n",
       "      <td>145.675910</td>\n",
       "      <td>51.393151</td>\n",
       "      <td>0.891617</td>\n",
       "      <td>6125.000000</td>\n",
       "      <td>87.126656</td>\n",
       "      <td>0.538530</td>\n",
       "      <td>333.990000</td>\n",
       "      <td>0.650962</td>\n",
       "      <td>2.208527</td>\n",
       "      <td>0.000000</td>\n",
       "    </tr>\n",
       "    <tr>\n",
       "      <th>50%</th>\n",
       "      <td>9093.000000</td>\n",
       "      <td>6660.000000</td>\n",
       "      <td>153.883750</td>\n",
       "      <td>55.724288</td>\n",
       "      <td>0.923259</td>\n",
       "      <td>6843.000000</td>\n",
       "      <td>92.085696</td>\n",
       "      <td>0.601194</td>\n",
       "      <td>353.088000</td>\n",
       "      <td>0.701941</td>\n",
       "      <td>2.602966</td>\n",
       "      <td>1.000000</td>\n",
       "    </tr>\n",
       "    <tr>\n",
       "      <th>75%</th>\n",
       "      <td>13639.000000</td>\n",
       "      <td>8423.000000</td>\n",
       "      <td>160.056214</td>\n",
       "      <td>70.156593</td>\n",
       "      <td>0.941372</td>\n",
       "      <td>8645.000000</td>\n",
       "      <td>103.559146</td>\n",
       "      <td>0.695664</td>\n",
       "      <td>373.003000</td>\n",
       "      <td>0.769280</td>\n",
       "      <td>2.964101</td>\n",
       "      <td>1.000000</td>\n",
       "    </tr>\n",
       "    <tr>\n",
       "      <th>max</th>\n",
       "      <td>18185.000000</td>\n",
       "      <td>10210.000000</td>\n",
       "      <td>183.211434</td>\n",
       "      <td>82.550762</td>\n",
       "      <td>0.966774</td>\n",
       "      <td>11008.000000</td>\n",
       "      <td>114.016559</td>\n",
       "      <td>0.886573</td>\n",
       "      <td>508.511000</td>\n",
       "      <td>0.904748</td>\n",
       "      <td>3.911845</td>\n",
       "      <td>1.000000</td>\n",
       "    </tr>\n",
       "  </tbody>\n",
       "</table>\n",
       "</div>"
      ],
      "text/plain": [
       "                 id          Area  MajorAxisLength  MinorAxisLength  \\\n",
       "count  18185.000000  18185.000000     18185.000000     18185.000000   \n",
       "mean    9093.000000   7036.492989       151.680754        59.807851   \n",
       "std     5249.701658   1467.197150        12.376402        10.061653   \n",
       "min        1.000000   2522.000000        74.133114        34.409894   \n",
       "25%     4547.000000   5962.000000       145.675910        51.393151   \n",
       "50%     9093.000000   6660.000000       153.883750        55.724288   \n",
       "75%    13639.000000   8423.000000       160.056214        70.156593   \n",
       "max    18185.000000  10210.000000       183.211434        82.550762   \n",
       "\n",
       "       Eccentricity    ConvexArea  EquivDiameter        Extent     Perimeter  \\\n",
       "count  18185.000000  18185.000000   18185.000000  18185.000000  18185.000000   \n",
       "mean       0.915406   7225.817872      94.132952      0.616653    351.606949   \n",
       "std        0.030575   1502.006571       9.906250      0.104389     29.500620   \n",
       "min        0.676647   2579.000000      56.666658      0.383239    197.015000   \n",
       "25%        0.891617   6125.000000      87.126656      0.538530    333.990000   \n",
       "50%        0.923259   6843.000000      92.085696      0.601194    353.088000   \n",
       "75%        0.941372   8645.000000     103.559146      0.695664    373.003000   \n",
       "max        0.966774  11008.000000     114.016559      0.886573    508.511000   \n",
       "\n",
       "          Roundness  AspectRation         Class  \n",
       "count  18185.000000  18185.000000  18185.000000  \n",
       "mean       0.707998      2.599081      0.549079  \n",
       "std        0.067310      0.434836      0.497599  \n",
       "min        0.174590      1.358128      0.000000  \n",
       "25%        0.650962      2.208527      0.000000  \n",
       "50%        0.701941      2.602966      1.000000  \n",
       "75%        0.769280      2.964101      1.000000  \n",
       "max        0.904748      3.911845      1.000000  "
      ]
     },
     "execution_count": 5,
     "metadata": {},
     "output_type": "execute_result"
    }
   ],
   "source": [
    "df.describe()"
   ]
  },
  {
   "cell_type": "code",
   "execution_count": 10,
   "id": "be94fbaa",
   "metadata": {},
   "outputs": [
    {
     "data": {
      "text/plain": [
       "<AxesSubplot:>"
      ]
     },
     "execution_count": 10,
     "metadata": {},
     "output_type": "execute_result"
    },
    {
     "data": {
      "image/png": "[encoded data removed]",
      "text/plain": [
       "<Figure size 432x288 with 2 Axes>"
      ]
     },
     "metadata": {
      "needs_background": "light"
     },
     "output_type": "display_data"
    }
   ],
   "source": [
    "sns.heatmap(df.drop(['id','Class'], axis = 1).corr(), annot = True)"
   ]
  },
  {
   "cell_type": "code",
   "execution_count": 7,
   "id": "b1ed35c7",
   "metadata": {},
   "outputs": [],
   "source": [
    "x = df.drop(['id', 'Class'], axis = 1)\n",
    "y = df['Class']"
   ]
  },
  {
   "cell_type": "code",
   "execution_count": 8,
   "id": "8ba13622",
   "metadata": {},
   "outputs": [],
   "source": [
    "scaler = StandardScaler()"
   ]
  },
  {
   "cell_type": "code",
   "execution_count": 22,
   "id": "1ab69e50",
   "metadata": {},
   "outputs": [
    {
     "data": {
      "text/plain": [
       "array([[-1.70363043, -4.80374424,  0.41792669, ..., -2.66177825,\n",
       "         0.83958835, -2.66379989],\n",
       "       [-2.83847845, -6.22078914, -0.83561103, ..., -4.85731791,\n",
       "         1.83721534, -2.6354184 ],\n",
       "       [-2.71851854, -6.09140363, -0.77169963, ..., -4.79985991,\n",
       "         2.3835873 , -2.60595002],\n",
       "       ...,\n",
       "       [-0.45768318,  0.25018706, -0.6857677 , ..., -0.31708508,\n",
       "        -0.37389933,  0.75045135],\n",
       "       [-0.73372729, -0.02285299, -0.82824173, ..., -0.27918653,\n",
       "        -1.08116545,  0.7868348 ],\n",
       "       [-0.61513056,  0.11322075, -0.81671191, ..., -0.44047571,\n",
       "        -0.53075529,  0.84669604]])"
      ]
     },
     "execution_count": 22,
     "metadata": {},
     "output_type": "execute_result"
    }
   ],
   "source": [
    "x_scaled = scaler.fit_transform(x)\n",
    "x_scaled"
   ]
  },
  {
   "cell_type": "code",
   "execution_count": 23,
   "id": "7d448c1e",
   "metadata": {},
   "outputs": [],
   "source": [
    "x_train, x_test, y_train, y_test = train_test_split(x, y, test_size = 0.2, random_state = 1)"
   ]
  },
  {
   "cell_type": "code",
   "execution_count": 24,
   "id": "3afd157a",
   "metadata": {},
   "outputs": [],
   "source": [
    "model = LogisticRegression().fit(x_train, y_train)"
   ]
  },
  {
   "cell_type": "code",
   "execution_count": 25,
   "id": "9c0d542d",
   "metadata": {},
   "outputs": [],
   "source": [
    "y_pred = model.predict(x_test)"
   ]
  },
  {
   "cell_type": "code",
   "execution_count": 26,
   "id": "4f6660b1",
   "metadata": {},
   "outputs": [
    {
     "data": {
      "text/plain": [
       "0.9903766840802859"
      ]
     },
     "execution_count": 26,
     "metadata": {},
     "output_type": "execute_result"
    }
   ],
   "source": [
    "accuracy_score(y_test, y_pred)"
   ]
  },
  {
   "cell_type": "code",
   "execution_count": 28,
   "id": "ebdc8b6a",
   "metadata": {},
   "outputs": [
    {
     "data": {
      "text/plain": [
       "<sklearn.metrics._plot.confusion_matrix.ConfusionMatrixDisplay at 0x26323bc0100>"
      ]
     },
     "execution_count": 28,
     "metadata": {},
     "output_type": "execute_result"
    },
    {
     "data": {
      "image/png": "[encoded data removed]",
      "text/plain": [
       "<Figure size 432x288 with 2 Axes>"
      ]
     },
     "metadata": {
      "needs_background": "light"
     },
     "output_type": "display_data"
    }
   ],
   "source": [
    "plot_confusion_matrix(model, x_test, y_test)"
   ]
  },
  {
   "cell_type": "code",
   "execution_count": 30,
   "id": "f01f79c4",
   "metadata": {},
   "outputs": [],
   "source": [
    "pkl.dump(model, open('lr_rice.pkl', 'wb'))"
   ]
  }
 ],
 "metadata": {
  "kernelspec": {
   "display_name": "Python 3 (ipykernel)",
   "language": "python",
   "name": "python3"
  },
  "language_info": {
   "codemirror_mode": {
    "name": "ipython",
    "version": 3
   },
   "file_extension": ".py",
   "mimetype": "text/x-python",
   "name": "python",
   "nbconvert_exporter": "python",
   "pygments_lexer": "ipython3",
   "version": "3.9.7"
  }
 },
 "nbformat": 4,
 "nbformat_minor": 5
}
